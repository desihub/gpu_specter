{
 "cells": [
  {
   "cell_type": "markdown",
   "metadata": {},
   "source": [
    "# Constructing the projection matrix $A$\n",
    "\n",
    "$$\n",
    "\\mathrm{PSF}_{k,\\lambda}(x,y) =\n",
    "    G\\left({{x-x_0} \\over \\sigma_x}\\right)\n",
    "    G\\left({{y-y_0} \\over \\sigma_y}\\right)\n",
    "    \\sum_{i,j}\n",
    "    c_{ij}\n",
    "    H_i\\left({{x-x_0} \\over \\sigma_x}\\right)\n",
    "    H_j\\left({{y-y_0} \\over \\sigma_y}\\right)\n",
    "$$\n",
    "\n",
    "Where $G(z) = e^{-0.5 z^2}/\\sqrt{2\\pi}$ and $H_i(z)$ are the \"probabalist's\" Hermite polynomials.  These are often listed as $He_i(z)$ (*e.g.* in Wikipedia and numpy code) to differentiate them from the \"physicist's\"\n",
    "Hermite polynomials but here will will simply use $H_i(z)$.\n",
    "\n",
    "**TODO**:\n",
    "  * Add PSF tails\n",
    "  * Document more, cleanup code and cryptic variable/function names\n",
    "  * Put this all together with divide-and-conquer extractions"
   ]
  },
  {
   "cell_type": "code",
   "execution_count": 1,
   "metadata": {},
   "outputs": [
    {
     "name": "stdout",
     "output_type": "stream",
     "text": [
      "Populating the interactive namespace from numpy and matplotlib\n"
     ]
    }
   ],
   "source": [
    "import os, sys, time\n",
    "import numpy as np\n",
    "from astropy.table import Table\n",
    "import numba\n",
    "import scipy.special\n",
    "\n",
    "%pylab inline"
   ]
  },
  {
   "cell_type": "markdown",
   "metadata": {},
   "source": [
    "## Evaluating the Legendre polynomials for the PSF parameters\n",
    "\n",
    "The PSF parameters $p$ ($x_0$, $y_0$, $\\sigma_x$, $\\sigma_y$, $c_{ij}$ etc.)\n",
    "are stored as the coefficients $a$ of Legendre polynomials vs. wavelength for each spectrum $k$:\n",
    "\n",
    "$$\n",
    "p_k(\\lambda) = \\sum_i a_{ki} L_i(w)\n",
    "$$\n",
    "\n",
    "where the wavelength $\\lambda$ is mapped to the domain $w \\in [-1,1]$ with\n",
    "\n",
    "$$\n",
    "w = 2 {{\\lambda - \\lambda_{min}} \\over {\\lambda_{max} - \\lambda_{min}}} - 1\n",
    "$$\n",
    "\n",
    "First we'll build a cache of all parameters evaluated at all wavelengths for all spectra.\n",
    "Since this will involve evaluating Legendre polynomials at the same wavelengths for many\n",
    "different sets of coefficients, we can do this efficiently by constructing the\n",
    "Vandermonde Matrix and then taking the dot product with all coefficients at once."
   ]
  },
  {
   "cell_type": "code",
   "execution_count": 2,
   "metadata": {},
   "outputs": [],
   "source": [
    "#- Read the PSF parameters from a PSF file without using specter\n",
    "psfdata = Table.read('psf.fits')"
   ]
  },
  {
   "cell_type": "code",
   "execution_count": 3,
   "metadata": {},
   "outputs": [
    {
     "data": {
      "text/plain": [
       "['PARAM', 'WAVEMIN', 'WAVEMAX', 'COEFF']"
      ]
     },
     "execution_count": 3,
     "metadata": {},
     "output_type": "execute_result"
    }
   ],
   "source": [
    "psfdata.colnames"
   ]
  },
  {
   "cell_type": "markdown",
   "metadata": {},
   "source": [
    "The wavelengths at which we evaluate the PSFs is arbitrary as long as they are within\n",
    "the `WAVEMIN` and `WAVEMAX` specified.\n",
    "\n",
    "**Note**: in principle the format species a `WAVEMIN` and `WAVEMAX` for each parameter.\n",
    "In practice those are always the same but we'll check anyway."
   ]
  },
  {
   "cell_type": "code",
   "execution_count": 4,
   "metadata": {},
   "outputs": [],
   "source": [
    "wavelengths = np.arange(psfdata['WAVEMIN'][0], psfdata['WAVEMAX'][0], 0.8)\n",
    "if np.any(psfdata['WAVEMIN'] != psfdata['WAVEMIN'][0]):\n",
    "    raise RuntimeError('different values of WAVEMIN are not supported')\n",
    "if np.any(psfdata['WAVEMAX'] != psfdata['WAVEMAX'][0]):\n",
    "    raise RuntimeError('different values of WAVEMAX are not supported')"
   ]
  },
  {
   "cell_type": "code",
   "execution_count": 5,
   "metadata": {},
   "outputs": [
    {
     "name": "stdout",
     "output_type": "stream",
     "text": [
      "CPU times: user 1.39 s, sys: 260 ms, total: 1.65 s\n",
      "Wall time: 1.66 s\n"
     ]
    }
   ],
   "source": [
    "def evalcoeffs(wavelengths, psfdata):\n",
    "    '''\n",
    "    wavelengths: 1D array of wavelengths to evaluate all coefficients for all wavelengths of all spectra\n",
    "    psfdata: Table of parameter data ready from a GaussHermite format PSF file\n",
    "    \n",
    "    Returns a dictionary params[paramname] = value[nspec, nwave]\n",
    "    \n",
    "    The Gauss Hermite coefficients are treated differently:\n",
    "    \n",
    "        params['GH'] = value[i,j,nspec,nwave]\n",
    "        \n",
    "    The dictionary also contains scalars with the recommended spot size HSIZEX, HSIZEY\n",
    "    and Gauss-Hermite degrees GHDEGX, GHDEGY (which is also derivable from the dimensions\n",
    "    of params['GH'])\n",
    "    '''\n",
    "    wavemin, wavemax = psfdata['WAVEMIN'][0], psfdata['WAVEMAX'][0]\n",
    "    wx = (wavelengths - wavemin) * (2.0 / (wavemax - wavemin)) - 1.0\n",
    "    L = np.polynomial.legendre.legvander(wx, psfdata.meta['LEGDEG'])\n",
    "    \n",
    "    p = dict(WAVE=wavelengths)\n",
    "    nparam, nspec, ndeg = psfdata['COEFF'].shape\n",
    "    nwave = L.shape[0]\n",
    "    p['GH'] = np.zeros((psfdata.meta['GHDEGX']+1, psfdata.meta['GHDEGY']+1, nspec, nwave))\n",
    "    for name, coeff in zip(psfdata['PARAM'], psfdata['COEFF']):\n",
    "        name = name.strip()\n",
    "        if name.startswith('GH-'):\n",
    "            i, j = map(int, name.split('-')[1:3])\n",
    "            p['GH'][i,j] = L.dot(coeff.T).T\n",
    "        else:\n",
    "            p[name] = L.dot(coeff.T).T\n",
    "    \n",
    "    #- Include some additional keywords that we'll need\n",
    "    for key in ['HSIZEX', 'HSIZEY', 'GHDEGX', 'GHDEGY']:\n",
    "        p[key] = psfdata.meta[key]\n",
    "    \n",
    "    return p\n",
    "\n",
    "%time p = evalcoeffs(wavelengths, psfdata)"
   ]
  },
  {
   "cell_type": "code",
   "execution_count": 6,
   "metadata": {},
   "outputs": [
    {
     "data": {
      "text/plain": [
       "dict_keys(['WAVE', 'GH', 'X', 'Y', 'GHSIGX', 'GHSIGY', 'TAILAMP', 'TAILCORE', 'TAILXSCA', 'TAILYSCA', 'TAILINDE', 'CONT', 'HSIZEX', 'HSIZEY', 'GHDEGX', 'GHDEGY'])"
      ]
     },
     "execution_count": 6,
     "metadata": {},
     "output_type": "execute_result"
    }
   ],
   "source": [
    "p.keys()"
   ]
  },
  {
   "cell_type": "code",
   "execution_count": 7,
   "metadata": {},
   "outputs": [
    {
     "data": {
      "text/plain": [
       "Text(0,0.5,'CCD y')"
      ]
     },
     "execution_count": 7,
     "metadata": {},
     "output_type": "execute_result"
    },
    {
     "data": {
      "image/png": "[encoded data removed]",
      "text/plain": [
       "<matplotlib.figure.Figure at 0x80a7b2748>"
      ]
     },
     "metadata": {},
     "output_type": "display_data"
    }
   ],
   "source": [
    "for i in range(50):\n",
    "    plot(p['X'][i], p['Y'][i])\n",
    "xlabel('CCD x'); ylabel('CCD y')"
   ]
  },
  {
   "cell_type": "code",
   "execution_count": 8,
   "metadata": {},
   "outputs": [
    {
     "data": {
      "text/plain": [
       "OrderedDict([('comments',\n",
       "              ['------------------------------------------------------------------------',\n",
       "               'PSF generated by specex, https://github.com/julienguy/specex',\n",
       "               'PSF fit date 2015-01-12',\n",
       "               '-',\n",
       "               'Each row of the table contains the data vector of one PSF parameter',\n",
       "               'The size of the vector is ((FIBERMAX-FIBERMIN+1)*(LEGDEG+1))',\n",
       "               'Description of  the NPARAMS parameters :',\n",
       "               'X        : CCD column coordinate (as a function of fiber and wavelength)',\n",
       "               'Y        : CCD row coordinate (as a function of fiber and wavelength)',\n",
       "               '         (X,Y)=(0,0) means that PSF is centered on center of first pixel',\n",
       "               'GHSIGX   : Sigma of first Gaussian along CCD columns for PSF core',\n",
       "               'GHSIGY   : Sigma of first Gaussian along CCD rows for PSF core',\n",
       "               'GH-i-j   : Hermite pol. coefficents, i along columns, j along rows,',\n",
       "               '         i is integer from 0 to GHDEGX, j is integer from 0 to GHDEGY,',\n",
       "               '         there are (GHDEGX+1)*(GHDEGY+1) such coefficents.',\n",
       "               'TAILAMP  : Amplitude of PSF tail',\n",
       "               'TAILCORE : Size in pixels of PSF tail saturation in PSF core',\n",
       "               'TAILXSCA : Scaling apply to CCD coordinate along columns for PSF tail',\n",
       "               'TAILYSCA : Scaling apply to CCD coordinate along rows for PSF tail',\n",
       "               'TAILINDE : Asymptotic power law index of PSF tail',\n",
       "               'CONT     : Continuum flux in arc image (not part of PSF)',\n",
       "               '-',\n",
       "               'PSF_core(X,Y) = [ SUM_ij (GH-i-j)*HERM(i,X/GHSIGX)*HERM(j,Y/GHSIGX) ]',\n",
       "               '                                       *GAUS(X,GHSIGX)*GAUS(Y,GHSIGY)',\n",
       "               '-',\n",
       "               'PSF_tail(X,Y) = TAILAMP*R^2/(TAILCORE^2+R^2)^(1+TAILINDE/2)',\n",
       "               '                with R^2=(X/TAILXSCA)^2+(Y/TAILYSCA)^2',\n",
       "               '-',\n",
       "               'PSF_core is integrated in pixel',\n",
       "               'PSF_tail is not, it is evaluated at center of pixel',\n",
       "               '------------------------------------------------------------------------']),\n",
       "             ('PSFTYPE', 'GAUSS-HERMITE'),\n",
       "             ('PSFVER', '2'),\n",
       "             ('MJD', 0),\n",
       "             ('PLATEID', 0),\n",
       "             ('CAMERA', ''),\n",
       "             ('ARCEXP', 0),\n",
       "             ('NPIX_X', 4114),\n",
       "             ('NPIX_Y', 4128),\n",
       "             ('HSIZEX', 14),\n",
       "             ('HSIZEY', 8),\n",
       "             ('BUNDLMIN', 0),\n",
       "             ('BUNDLMAX', 19),\n",
       "             ('FIBERMIN', 0),\n",
       "             ('FIBERMAX', 499),\n",
       "             ('NPARAMS', 91),\n",
       "             ('LEGDEG', 7),\n",
       "             ('GHDEGX', 8),\n",
       "             ('GHDEGY', 8),\n",
       "             ('PSFERROR', 0.0),\n",
       "             ('READNOIS', 2.9),\n",
       "             ('GAIN', 1.0),\n",
       "             ('B00RCHI2', 1.09433668488489),\n",
       "             ('B00NDATA', 189860),\n",
       "             ('B00NPAR', 300),\n",
       "             ('B01RCHI2', 1.11144502219823),\n",
       "             ('B01NDATA', 189041),\n",
       "             ('B01NPAR', 300),\n",
       "             ('B02RCHI2', 1.10632356799618),\n",
       "             ('B02NDATA', 184672),\n",
       "             ('B02NPAR', 300),\n",
       "             ('B03RCHI2', 1.10749760788208),\n",
       "             ('B03NDATA', 187657),\n",
       "             ('B03NPAR', 300),\n",
       "             ('B04RCHI2', 1.09824752303576),\n",
       "             ('B04NDATA', 184801),\n",
       "             ('B04NPAR', 300),\n",
       "             ('B05RCHI2', 1.08779389491565),\n",
       "             ('B05NDATA', 182115),\n",
       "             ('B05NPAR', 300),\n",
       "             ('B06RCHI2', 1.08508837444007),\n",
       "             ('B06NDATA', 182040),\n",
       "             ('B06NPAR', 300),\n",
       "             ('B07RCHI2', 1.07831853970028),\n",
       "             ('B07NDATA', 178220),\n",
       "             ('B07NPAR', 300),\n",
       "             ('B08RCHI2', 1.06638050590159),\n",
       "             ('B08NDATA', 174605),\n",
       "             ('B08NPAR', 300),\n",
       "             ('B09RCHI2', 1.06543133671819),\n",
       "             ('B09NDATA', 171022),\n",
       "             ('B09NPAR', 300),\n",
       "             ('B10RCHI2', 1.0686306032153),\n",
       "             ('B10NDATA', 173708),\n",
       "             ('B10NPAR', 300),\n",
       "             ('B11RCHI2', 1.06871187702973),\n",
       "             ('B11NDATA', 173683),\n",
       "             ('B11NPAR', 300),\n",
       "             ('B12RCHI2', 1.07994597536961),\n",
       "             ('B12NDATA', 177468),\n",
       "             ('B12NPAR', 300),\n",
       "             ('B13RCHI2', 1.08089570944747),\n",
       "             ('B13NDATA', 183603),\n",
       "             ('B13NPAR', 300),\n",
       "             ('B14RCHI2', 1.08804122979482),\n",
       "             ('B14NDATA', 180543),\n",
       "             ('B14NPAR', 300),\n",
       "             ('B15RCHI2', 1.09579827792454),\n",
       "             ('B15NDATA', 185115),\n",
       "             ('B15NPAR', 300),\n",
       "             ('B16RCHI2', 1.10120218342352),\n",
       "             ('B16NDATA', 184921),\n",
       "             ('B16NPAR', 300),\n",
       "             ('B17RCHI2', 1.1082826379518),\n",
       "             ('B17NDATA', 187522),\n",
       "             ('B17NPAR', 300),\n",
       "             ('B18RCHI2', 1.10484241904075),\n",
       "             ('B18NDATA', 188077),\n",
       "             ('B18NPAR', 300),\n",
       "             ('B19RCHI2', 1.10458860767776),\n",
       "             ('B19NDATA', 189859),\n",
       "             ('B19NPAR', 300)])"
      ]
     },
     "execution_count": 8,
     "metadata": {},
     "output_type": "execute_result"
    }
   ],
   "source": [
    "psfdata.meta"
   ]
  },
  {
   "cell_type": "markdown",
   "metadata": {},
   "source": [
    "## 2D Pixelated Gauss-Hermite Polynomials\n",
    "\n",
    "To create the projection matrix $A$, we will need to integrate the PSF over CCD pixels.  Recall that the PSF is modeled as:\n",
    "\n",
    "$$\n",
    "\\mathrm{PSF}_{k,\\lambda}(x,y) =\n",
    "    G\\left({{x-x_0} \\over \\sigma_x}\\right)\n",
    "    G\\left({{y-y_0} \\over \\sigma_y}\\right)\n",
    "    \\sum_{i,j}\n",
    "    c_{ij}\n",
    "    He_i\\left({{x-x_0} \\over \\sigma_x}\\right)\n",
    "    He_j\\left({{y-y_0} \\over \\sigma_y}\\right)\n",
    "$$\n",
    "\n",
    "We will use the relation\n",
    "\n",
    "$$\n",
    "\\int{ He_k(x) e^{-0.5 x^2} dx} = -He_{k-1}(x) e^{-0.5 x^2} + const\n",
    "$$\n",
    "\n",
    "and like the PSF coefficients, we will pre-calculate and cache the evaluations so that they\n",
    "can be done in a single vectorized call instead of many individual evaluations.\n",
    "We will do these evaluations for all wavelengths of a single spectrum at a time."
   ]
  },
  {
   "cell_type": "code",
   "execution_count": 9,
   "metadata": {},
   "outputs": [],
   "source": [
    "from numpy.polynomial import hermite_e as He\n",
    "\n",
    "def calc_pgh(ispec, wavelengths, psfparams):\n",
    "    '''\n",
    "    Calculate the pixelated Gauss Hermite for all wavelengths of a single spectrum\n",
    "    \n",
    "    ispec : integer spectrum number\n",
    "    wavelengths : array of wavelengths to evaluate\n",
    "    psfparams : dictionary of PSF parameters returned by evalcoeffs\n",
    "    \n",
    "    returns pGHx, pGHy\n",
    "    \n",
    "    where pGHx[ghdeg+1, nwave, nbinsx] contains the pixel-integrated Gauss-Hermite polynomial\n",
    "    for all degrees at all wavelengths across nbinsx bins spaning the PSF spot, and similarly\n",
    "    for pGHy.  The core PSF will then be evaluated as\n",
    "    \n",
    "    PSFcore = sum_ij c_ij outer(pGHy[j], pGHx[i])\n",
    "    '''\n",
    "    \n",
    "    #- shorthand\n",
    "    p = psfparams\n",
    "    \n",
    "    #- spot size (ny,nx)\n",
    "    nx = p['HSIZEX']\n",
    "    ny = p['HSIZEY']\n",
    "    nwave = len(wavelengths)\n",
    "    # print('Spot size (ny,nx) = {},{}'.format(ny, nx))\n",
    "    # print('nwave = {}'.format(nwave))\n",
    "\n",
    "    #- x and y edges of bins that span the center of the PSF spot\n",
    "    xedges = np.repeat(np.arange(nx+1) - nx//2, nwave).reshape(nx+1, nwave)\n",
    "    yedges = np.repeat(np.arange(ny+1) - ny//2, nwave).reshape(ny+1, nwave)\n",
    "    \n",
    "    #- Shift to be relative to the PSF center at 0 and normalize\n",
    "    #- by the PSF sigma (GHSIGX, GHSIGY)\n",
    "    xedges = ((xedges - p['X'][ispec]%1)/p['GHSIGX'][ispec])\n",
    "    yedges = ((yedges - p['Y'][ispec]%1)/p['GHSIGY'][ispec])    \n",
    "    # print('xedges.shape = {}'.format(xedges.shape))\n",
    "    # print('yedges.shape = {}'.format(yedges.shape))\n",
    "\n",
    "    #- Degree of the Gauss-Hermite polynomials\n",
    "    ghdegx = p['GHDEGX']\n",
    "    ghdegy = p['GHDEGY']\n",
    "\n",
    "    #- Evaluate the Hermite polynomials at the pixel edges\n",
    "    HVx = He.hermevander(xedges, ghdegx).T\n",
    "    HVy = He.hermevander(yedges, ghdegy).T\n",
    "    # print('HVx.shape = {}'.format(HVx.shape))\n",
    "    # print('HVy.shape = {}'.format(HVy.shape))\n",
    "\n",
    "    #- Evaluate the Gaussians at the pixel edges\n",
    "    Gx = np.exp(-0.5*xedges**2).T / np.sqrt(2. * np.pi)   # (nwave, nedges)\n",
    "    Gy = np.exp(-0.5*yedges**2).T / np.sqrt(2. * np.pi)\n",
    "    # print('Gx.shape = {}'.format(Gx.shape))\n",
    "    # print('Gy.shape = {}'.format(Gy.shape))\n",
    "\n",
    "    #- Combine into Gauss*Hermite\n",
    "    GHx = HVx * Gx\n",
    "    GHy = HVy * Gy\n",
    "\n",
    "    #- Integrate over the pixels using the relationship\n",
    "    #  Integral{ H_k(x) exp(-0.5 x^2) dx} = -H_{k-1}(x) exp(-0.5 x^2) + const\n",
    "\n",
    "    pGHx = np.zeros((ghdegx+1, nwave, nx))\n",
    "    pGHy = np.zeros((ghdegy+1, nwave, ny))\n",
    "    pGHx[0] = 0.5 * np.diff(scipy.special.erf(xedges/np.sqrt(2.)).T)\n",
    "    pGHy[0] = 0.5 * np.diff(scipy.special.erf(yedges/np.sqrt(2.)).T)\n",
    "    pGHx[1:] = GHx[:ghdegx,:,0:nx] - GHx[:ghdegx,:,1:nx+1]\n",
    "    pGHy[1:] = GHy[:ghdegy,:,0:ny] - GHy[:ghdegy,:,1:ny+1]\n",
    "    \n",
    "    return pGHx, pGHy\n",
    "\n",
    "pGHx, pGHy = calc_pgh(0, wavelengths, p)"
   ]
  },
  {
   "cell_type": "code",
   "execution_count": 10,
   "metadata": {},
   "outputs": [
    {
     "name": "stdout",
     "output_type": "stream",
     "text": [
      "8.16 ms ± 46.4 µs per loop (mean ± std. dev. of 7 runs, 100 loops each)\n"
     ]
    }
   ],
   "source": [
    "%timeit pGHx, pGHy = calc_pgh(0, wavelengths, p)"
   ]
  },
  {
   "cell_type": "code",
   "execution_count": 11,
   "metadata": {},
   "outputs": [
    {
     "data": {
      "text/plain": [
       "(9, 2802, 14)"
      ]
     },
     "execution_count": 11,
     "metadata": {},
     "output_type": "execute_result"
    }
   ],
   "source": [
    "pGHx.shape"
   ]
  },
  {
   "cell_type": "markdown",
   "metadata": {},
   "source": [
    "### Evaluate multiple spots at once\n",
    "\n",
    "We'll now use those cached pixelated Gauss-Hermite functions to evaluate the\n",
    "spots at multiple wavelengths"
   ]
  },
  {
   "cell_type": "code",
   "execution_count": 12,
   "metadata": {},
   "outputs": [],
   "source": [
    "@numba.jit(nopython=True)\n",
    "def multispot(pGHx, pGHy, ghc):\n",
    "    nx = pGHx.shape[-1]\n",
    "    ny = pGHy.shape[-1]\n",
    "    nwave = pGHx.shape[1]\n",
    "    spots = np.zeros((nwave, ny, nx))\n",
    "\n",
    "    tmpspot = np.zeros((ny,nx))\n",
    "    for iwave in range(nwave):\n",
    "        for i in range(pGHx.shape[0]):\n",
    "            px = pGHx[i,iwave]\n",
    "            for j in range(0, pGHy.shape[0]):\n",
    "                py = pGHy[j,iwave]\n",
    "                c = ghc[i,j,iwave]\n",
    "                #- c * outer(py, px)\n",
    "                for iy in range(len(py)):\n",
    "                    for ix in range(len(px)):\n",
    "                        spots[iwave, iy, ix] += c * py[iy] * px[ix]\n",
    "    \n",
    "    return spots\n",
    "\n",
    "ispec = 0\n",
    "mspots = multispot(pGHx, pGHy, p['GH'][:,:,ispec,:])"
   ]
  },
  {
   "cell_type": "code",
   "execution_count": 13,
   "metadata": {},
   "outputs": [
    {
     "name": "stdout",
     "output_type": "stream",
     "text": [
      "27.5 ms ± 252 µs per loop (mean ± std. dev. of 7 runs, 10 loops each)\n"
     ]
    }
   ],
   "source": [
    "%timeit mspots = multispot(pGHx, pGHy, p['GH'][:,:,ispec,:])"
   ]
  },
  {
   "cell_type": "markdown",
   "metadata": {},
   "source": [
    "Now put it all together to evaluate the spots for 50 spectra at all wavelengths,\n",
    "which will take ~2 seconds.  Production code could parallelize this to evaluate\n",
    "all spots for all wavelengths of all spectra simultaneously, or work in batches\n",
    "like this to not blow memory."
   ]
  },
  {
   "cell_type": "code",
   "execution_count": 14,
   "metadata": {},
   "outputs": [
    {
     "name": "stdout",
     "output_type": "stream",
     "text": [
      "1.88 sec to calculate spots for 50 spectra x 2802 wavelengths\n"
     ]
    }
   ],
   "source": [
    "t0 = time.time()\n",
    "nspec = 50\n",
    "nwave = len(wavelengths)\n",
    "nx = p['HSIZEX']\n",
    "ny = p['HSIZEY']\n",
    "spots = np.zeros((nspec, nwave, ny, nx))\n",
    "for ispec in range(nspec):\n",
    "    pGHx, pGHy = calc_pgh(ispec, wavelengths, p)\n",
    "    spots[ispec] = multispot(pGHx, pGHy, p['GH'][:,:,ispec,:])\n",
    "\n",
    "dt = time.time() - t0\n",
    "print('{:.2f} sec to calculate spots for {} spectra x {} wavelengths'.format(dt, nspec, nwave))"
   ]
  },
  {
   "cell_type": "code",
   "execution_count": 15,
   "metadata": {},
   "outputs": [
    {
     "data": {
      "image/png": "[encoded data removed]",
      "text/plain": [
       "<matplotlib.figure.Figure at 0x853bf8780>"
      ]
     },
     "metadata": {},
     "output_type": "display_data"
    }
   ],
   "source": [
    "figure(figsize=(15,5))\n",
    "for i in range(12):\n",
    "    subplot(1,12,i+1)\n",
    "    imshow(spots[0, i])"
   ]
  },
  {
   "cell_type": "markdown",
   "metadata": {},
   "source": [
    "## Constructing $A$\n",
    "\n",
    "Now let's use these spots to construct the matrix $A$ that projects fluxes $f$ onto pixels $p = Af$.\n",
    "for this we'll need to know the spots (already calculated and cached) as also the corners of\n",
    "where those spots go on the full 2D image."
   ]
  },
  {
   "cell_type": "code",
   "execution_count": 16,
   "metadata": {},
   "outputs": [
    {
     "name": "stdout",
     "output_type": "stream",
     "text": [
      "(37, 43, 5, 20) -18 173\n"
     ]
    }
   ],
   "source": [
    "xc = np.floor(p['X'] - p['HSIZEX']//2).astype(int)\n",
    "yc = np.floor(p['Y'] - p['HSIZEY']//2).astype(int)\n",
    "corners = (xc, yc)\n",
    "\n",
    "@numba.jit\n",
    "def projection_matrix(ispec, nspec, iwave, nwave, spots, corners):\n",
    "    '''\n",
    "    TODO: document\n",
    "    '''\n",
    "    ny, nx = spots.shape[2:4]\n",
    "    xc, yc = corners\n",
    "    xmin = np.min(xc[ispec:ispec+nspec, iwave:iwave+nwave])\n",
    "    xmax = np.max(xc[ispec:ispec+nspec, iwave:iwave+nwave]) + nx\n",
    "    ymin = np.min(yc[ispec:ispec+nspec, iwave:iwave+nwave])\n",
    "    ymax = np.max(yc[ispec:ispec+nspec, iwave:iwave+nwave]) + ny\n",
    "    # print('ymin, ymax = {}, {}'.format(ymin, ymax))\n",
    "    A = np.zeros((ymax-ymin,xmax-xmin,nspec,nwave))\n",
    "    # print('A.shape = {}'.format(A.shape))\n",
    "    for i in range(nspec):\n",
    "        for j in range(nwave):\n",
    "            ixc = xc[ispec+i, iwave+j] - xmin\n",
    "            iyc = yc[ispec+i, iwave+j] - ymin\n",
    "            A[iyc:iyc+ny, ixc:ixc+nx, i, j] = spots[ispec+i,iwave+j]\n",
    "    \n",
    "    return A, ymin, xmin\n",
    "\n",
    "A, ymin, xmin = projection_matrix(1, 5, 0, 20, spots, corners)\n",
    "print(A.shape, ymin, xmin)"
   ]
  },
  {
   "cell_type": "code",
   "execution_count": 22,
   "metadata": {},
   "outputs": [
    {
     "name": "stdout",
     "output_type": "stream",
     "text": [
      "638 µs ± 8.8 µs per loop (mean ± std. dev. of 7 runs, 1000 loops each)\n"
     ]
    }
   ],
   "source": [
    "%timeit A, ymin, xmin = projection_matrix(0, 5, 0, 70, spots, corners)"
   ]
  },
  {
   "cell_type": "code",
   "execution_count": 18,
   "metadata": {},
   "outputs": [
    {
     "name": "stdout",
     "output_type": "stream",
     "text": [
      "CPU times: user 11.5 ms, sys: 11.9 ms, total: 23.5 ms\n",
      "Wall time: 23.9 ms\n"
     ]
    },
    {
     "data": {
      "text/plain": [
       "<matplotlib.image.AxesImage at 0x85667de10>"
      ]
     },
     "execution_count": 18,
     "metadata": {},
     "output_type": "execute_result"
    },
    {
     "data": {
      "image/png": "[encoded data removed]",
      "text/plain": [
       "<matplotlib.figure.Figure at 0x8565b8c88>"
      ]
     },
     "metadata": {},
     "output_type": "display_data"
    }
   ],
   "source": [
    "nspec = 10\n",
    "nwave = 60\n",
    "influx = np.ones((nspec, nwave))\n",
    "for i in range(nspec):\n",
    "    influx[i, 5*(i+1)] += 2 + 0.5*(i+1)\n",
    "\n",
    "# influx[0, 9] = 2\n",
    "\n",
    "%time A, ymin, xmin = projection_matrix(0, nspec, 5, nwave, spots, corners)\n",
    "nypix, nxpix = A.shape[0:2]\n",
    "Ax = A.reshape(nypix*nxpix, nspec*nwave)\n",
    "image = Ax.dot(influx.ravel()).reshape(nypix, nxpix)\n",
    "imshow(image)"
   ]
  },
  {
   "cell_type": "markdown",
   "metadata": {},
   "source": [
    "### Compare to Specter GaussHermite psf.projection_matrix() timing\n",
    "\n",
    "A full set of extractions involves approximately 5600 projection matrix evaluations.\n",
    "Including the time to build the cache for all 500 spectra, this would take\n",
    "2s + 20s + 5600 &times; 700 &mu;s = 26 seconds on a single core, which almost seems too\n",
    "good to be true.\n",
    "\n",
    "For comparison, the specter PSF evaluations take ~90ms each = 500 seconds.\n",
    "\n",
    "The code in this notebook doesn't yet include the evaluation of the tails of the PSFs,\n",
    "but there are still huge wins from doing larger vectorized operations, using\n",
    "`legvander` and `hermevander`, and simplifiying the bookkeeping to reduce the overhead.\n",
    "\n"
   ]
  },
  {
   "cell_type": "code",
   "execution_count": 19,
   "metadata": {},
   "outputs": [],
   "source": [
    "import specter.psf\n",
    "psf = specter.psf.load_psf('psf.fits')"
   ]
  },
  {
   "cell_type": "code",
   "execution_count": 20,
   "metadata": {},
   "outputs": [],
   "source": [
    "specrange = 0, nspec\n",
    "ww = wavelengths[0:nwave]\n",
    "xyrange = psf.xyrange(specrange, ww)\n",
    "A = psf.projection_matrix(specrange, ww, xyrange)"
   ]
  },
  {
   "cell_type": "code",
   "execution_count": 21,
   "metadata": {},
   "outputs": [
    {
     "name": "stdout",
     "output_type": "stream",
     "text": [
      "96.8 ms ± 10.7 ms per loop (mean ± std. dev. of 7 runs, 10 loops each)\n"
     ]
    }
   ],
   "source": [
    "%timeit A = psf.projection_matrix(specrange, ww, xyrange)"
   ]
  },
  {
   "cell_type": "code",
   "execution_count": null,
   "metadata": {},
   "outputs": [],
   "source": []
  }
 ],
 "metadata": {
  "kernelspec": {
   "display_name": "Python 3",
   "language": "python",
   "name": "python3"
  },
  "language_info": {
   "codemirror_mode": {
    "name": "ipython",
    "version": 3
   },
   "file_extension": ".py",
   "mimetype": "text/x-python",
   "name": "python",
   "nbconvert_exporter": "python",
   "pygments_lexer": "ipython3",
   "version": "3.6.7"
  }
 },
 "nbformat": 4,
 "nbformat_minor": 2
}
